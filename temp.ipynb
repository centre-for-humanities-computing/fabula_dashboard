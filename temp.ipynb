{
 "cells": [
  {
   "cell_type": "code",
   "execution_count": 1,
   "metadata": {},
   "outputs": [
    {
     "ename": "KeyError",
     "evalue": "'Lix'",
     "output_type": "error",
     "traceback": [
      "\u001b[0;31m---------------------------------------------------------------------------\u001b[0m",
      "\u001b[0;31mKeyError\u001b[0m                                  Traceback (most recent call last)",
      "File \u001b[0;32m/work/NielsAalundKrogsgaard#7447/git_repo/fabula_dashboard/fab_net/lib/python3.10/site-packages/pandas/core/indexes/base.py:3805\u001b[0m, in \u001b[0;36mIndex.get_loc\u001b[0;34m(self, key)\u001b[0m\n\u001b[1;32m   3804\u001b[0m \u001b[39mtry\u001b[39;00m:\n\u001b[0;32m-> 3805\u001b[0m     \u001b[39mreturn\u001b[39;00m \u001b[39mself\u001b[39;49m\u001b[39m.\u001b[39;49m_engine\u001b[39m.\u001b[39;49mget_loc(casted_key)\n\u001b[1;32m   3806\u001b[0m \u001b[39mexcept\u001b[39;00m \u001b[39mKeyError\u001b[39;00m \u001b[39mas\u001b[39;00m err:\n",
      "File \u001b[0;32mindex.pyx:167\u001b[0m, in \u001b[0;36mpandas._libs.index.IndexEngine.get_loc\u001b[0;34m()\u001b[0m\n",
      "File \u001b[0;32mindex.pyx:196\u001b[0m, in \u001b[0;36mpandas._libs.index.IndexEngine.get_loc\u001b[0;34m()\u001b[0m\n",
      "File \u001b[0;32mpandas/_libs/hashtable_class_helper.pxi:7081\u001b[0m, in \u001b[0;36mpandas._libs.hashtable.PyObjectHashTable.get_item\u001b[0;34m()\u001b[0m\n",
      "File \u001b[0;32mpandas/_libs/hashtable_class_helper.pxi:7089\u001b[0m, in \u001b[0;36mpandas._libs.hashtable.PyObjectHashTable.get_item\u001b[0;34m()\u001b[0m\n",
      "\u001b[0;31mKeyError\u001b[0m: 'Lix'",
      "\nThe above exception was the direct cause of the following exception:\n",
      "\u001b[0;31mKeyError\u001b[0m                                  Traceback (most recent call last)",
      "\u001b[1;32m/work/NielsAalundKrogsgaard#7447/git_repo/fabula_dashboard/temp.ipynb Cell 1\u001b[0m line \u001b[0;36m9\n\u001b[1;32m      <a href='vscode-notebook-cell://app-5021037-0.cloud.sdu.dk/work/NielsAalundKrogsgaard%237447/git_repo/fabula_dashboard/temp.ipynb#W0sdnNjb2RlLXJlbW90ZQ%3D%3D?line=4'>5</a>\u001b[0m file \u001b[39m=\u001b[39m \u001b[39mopen\u001b[39m(\u001b[39m'\u001b[39m\u001b[39mdata/temp.txt\u001b[39m\u001b[39m'\u001b[39m,\u001b[39m'\u001b[39m\u001b[39mr\u001b[39m\u001b[39m'\u001b[39m)\n\u001b[1;32m      <a href='vscode-notebook-cell://app-5021037-0.cloud.sdu.dk/work/NielsAalundKrogsgaard%237447/git_repo/fabula_dashboard/temp.ipynb#W0sdnNjb2RlLXJlbW90ZQ%3D%3D?line=6'>7</a>\u001b[0m df \u001b[39m=\u001b[39m td\u001b[39m.\u001b[39mextract_metrics(text\u001b[39m=\u001b[39mfile, spacy_model\u001b[39m=\u001b[39m\u001b[39m\"\u001b[39m\u001b[39men_core_web_lg\u001b[39m\u001b[39m\"\u001b[39m, metrics\u001b[39m=\u001b[39m[\u001b[39m\"\u001b[39m\u001b[39mreadability\u001b[39m\u001b[39m\"\u001b[39m, \u001b[39m\"\u001b[39m\u001b[39mcoherence\u001b[39m\u001b[39m\"\u001b[39m])\n\u001b[0;32m----> <a href='vscode-notebook-cell://app-5021037-0.cloud.sdu.dk/work/NielsAalundKrogsgaard%237447/git_repo/fabula_dashboard/temp.ipynb#W0sdnNjb2RlLXJlbW90ZQ%3D%3D?line=8'>9</a>\u001b[0m df[\u001b[39m\"\u001b[39;49m\u001b[39mLix\u001b[39;49m\u001b[39m\"\u001b[39;49m]\n",
      "File \u001b[0;32m/work/NielsAalundKrogsgaard#7447/git_repo/fabula_dashboard/fab_net/lib/python3.10/site-packages/pandas/core/frame.py:4090\u001b[0m, in \u001b[0;36mDataFrame.__getitem__\u001b[0;34m(self, key)\u001b[0m\n\u001b[1;32m   4088\u001b[0m \u001b[39mif\u001b[39;00m \u001b[39mself\u001b[39m\u001b[39m.\u001b[39mcolumns\u001b[39m.\u001b[39mnlevels \u001b[39m>\u001b[39m \u001b[39m1\u001b[39m:\n\u001b[1;32m   4089\u001b[0m     \u001b[39mreturn\u001b[39;00m \u001b[39mself\u001b[39m\u001b[39m.\u001b[39m_getitem_multilevel(key)\n\u001b[0;32m-> 4090\u001b[0m indexer \u001b[39m=\u001b[39m \u001b[39mself\u001b[39;49m\u001b[39m.\u001b[39;49mcolumns\u001b[39m.\u001b[39;49mget_loc(key)\n\u001b[1;32m   4091\u001b[0m \u001b[39mif\u001b[39;00m is_integer(indexer):\n\u001b[1;32m   4092\u001b[0m     indexer \u001b[39m=\u001b[39m [indexer]\n",
      "File \u001b[0;32m/work/NielsAalundKrogsgaard#7447/git_repo/fabula_dashboard/fab_net/lib/python3.10/site-packages/pandas/core/indexes/base.py:3812\u001b[0m, in \u001b[0;36mIndex.get_loc\u001b[0;34m(self, key)\u001b[0m\n\u001b[1;32m   3807\u001b[0m     \u001b[39mif\u001b[39;00m \u001b[39misinstance\u001b[39m(casted_key, \u001b[39mslice\u001b[39m) \u001b[39mor\u001b[39;00m (\n\u001b[1;32m   3808\u001b[0m         \u001b[39misinstance\u001b[39m(casted_key, abc\u001b[39m.\u001b[39mIterable)\n\u001b[1;32m   3809\u001b[0m         \u001b[39mand\u001b[39;00m \u001b[39many\u001b[39m(\u001b[39misinstance\u001b[39m(x, \u001b[39mslice\u001b[39m) \u001b[39mfor\u001b[39;00m x \u001b[39min\u001b[39;00m casted_key)\n\u001b[1;32m   3810\u001b[0m     ):\n\u001b[1;32m   3811\u001b[0m         \u001b[39mraise\u001b[39;00m InvalidIndexError(key)\n\u001b[0;32m-> 3812\u001b[0m     \u001b[39mraise\u001b[39;00m \u001b[39mKeyError\u001b[39;00m(key) \u001b[39mfrom\u001b[39;00m \u001b[39merr\u001b[39;00m\n\u001b[1;32m   3813\u001b[0m \u001b[39mexcept\u001b[39;00m \u001b[39mTypeError\u001b[39;00m:\n\u001b[1;32m   3814\u001b[0m     \u001b[39m# If we have a listlike key, _check_indexing_error will raise\u001b[39;00m\n\u001b[1;32m   3815\u001b[0m     \u001b[39m#  InvalidIndexError. Otherwise we fall through and re-raise\u001b[39;00m\n\u001b[1;32m   3816\u001b[0m     \u001b[39m#  the TypeError.\u001b[39;00m\n\u001b[1;32m   3817\u001b[0m     \u001b[39mself\u001b[39m\u001b[39m.\u001b[39m_check_indexing_error(key)\n",
      "\u001b[0;31mKeyError\u001b[0m: 'Lix'"
     ]
    }
   ],
   "source": [
    "import pandas as pd\n",
    "from dash import Dash, dcc, html\n",
    "import textdescriptives as td\n",
    "\n",
    "file = open('data/temp.txt','r')\n",
    "\n",
    "df = td.extract_metrics(text=file, spacy_model=\"en_core_web_lg\", metrics=[\"readability\", \"coherence\"])\n",
    "\n",
    "df[\"Lix\"]"
   ]
  },
  {
   "cell_type": "code",
   "execution_count": 3,
   "metadata": {},
   "outputs": [
    {
     "data": {
      "text/plain": [
       "0     21.884615\n",
       "1     35.428571\n",
       "2     22.250000\n",
       "3     14.250000\n",
       "4     41.863636\n",
       "5     42.571429\n",
       "6     40.000000\n",
       "7     43.769231\n",
       "8     22.250000\n",
       "9     45.333333\n",
       "10    35.428571\n",
       "11    14.382353\n",
       "12    37.000000\n",
       "13    26.095238\n",
       "14    14.000000\n",
       "15    38.272727\n",
       "Name: lix, dtype: float64"
      ]
     },
     "execution_count": 3,
     "metadata": {},
     "output_type": "execute_result"
    },
    {
     "name": "stderr",
     "output_type": "stream",
     "text": [
      "Bad pipe message: %s [b': ucloud-compute-session-app-5021037-0.cloud.sdu.dk=sCZoZPMqKkO2k4EhtdzK2oMBE-mqx0xsX3zbWXEmLuw%3D\\r\\nacce', b'-language: da-DK,da;q=0.9,en-US;q=0.8,en;q=0.7\\r\\naccept-encoding: gzip, deflate, br\\r\\nreferer: https://app-502103']\n",
      "Bad pipe message: %s [b'0.cloud.sdu.dk/?folder=/work\\r\\nsec-fetch-dest: document', b'sec-fetch-us']\n",
      "Bad pipe message: %s [b': ?1\\r\\nsec-fetch-mode: navigate\\r\\nsec-fetch-site: same-origin\\r\\naccept: text/html,application/xhtml+xml']\n",
      "Bad pipe message: %s [b'pplication/xml;q=0.9,image/avif,image/webp,', b'age/apng,*/*;q=0.8,application/signed-exchange;v=b3;q=0.7\\r\\nuser-agent: Mozilla/5.0 (Macintosh; Intel Mac', b'S X 10_15_7) AppleWebKit/537.36', b'KHTML, like Gecko) Chrome/122.0']\n",
      "Bad pipe message: %s [b'.0 Safari/537.36\\r\\nupgrade-insecure-requests: ']\n",
      "Bad pipe message: %s [b'\\nsec-ch-ua-platform: \"macOS\"\\r\\nsec-ch-ua-mobile: ', b'\\r\\nsec-ch-ua: \"Chromium\";v=\"122\", \"Not(A:Brand\";v=\"24\", \"Google']\n",
      "Bad pipe message: %s [b'hrome\";v=\"122\"\\r\\njob-id: 5f50198', b'cc5f806d2a2a2ad7bbb322c\\r\\nx-forwarded-ssl: on\\r\\nx-forwarded-proto: http\\r\\nx-forwarded-port: 80\\r\\nx-f', b'warded-host: app-5021037-0.cloud.sdu.dk\\r\\nx-forwarded-for: 185.45.22.138, 10.130.1.1\\r\\nx-real-ip: 10.130.1.1\\r\\nho']\n"
     ]
    }
   ],
   "source": [
    "df[\"lix\"]"
   ]
  },
  {
   "cell_type": "code",
   "execution_count": null,
   "metadata": {},
   "outputs": [],
   "source": []
  }
 ],
 "metadata": {
  "kernelspec": {
   "display_name": "Python 3",
   "language": "python",
   "name": "python3"
  },
  "language_info": {
   "codemirror_mode": {
    "name": "ipython",
    "version": 3
   },
   "file_extension": ".py",
   "mimetype": "text/x-python",
   "name": "python",
   "nbconvert_exporter": "python",
   "pygments_lexer": "ipython3",
   "version": "3.10.12"
  }
 },
 "nbformat": 4,
 "nbformat_minor": 2
}
